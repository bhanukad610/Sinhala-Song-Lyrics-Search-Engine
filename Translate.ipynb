{
  "nbformat": 4,
  "nbformat_minor": 0,
  "metadata": {
    "colab": {
      "name": "Translate.ipynb",
      "provenance": []
    },
    "kernelspec": {
      "name": "python3",
      "display_name": "Python 3"
    }
  },
  "cells": [
    {
      "cell_type": "code",
      "metadata": {
        "id": "dls6L1wW38BA",
        "colab_type": "code",
        "colab": {}
      },
      "source": [
        "from google.colab import drive\n",
        "drive.mount('/content/drive')"
      ],
      "execution_count": null,
      "outputs": []
    },
    {
      "cell_type": "code",
      "metadata": {
        "id": "6u6Br5W24WQZ",
        "colab_type": "code",
        "colab": {}
      },
      "source": [
        "import json\n",
        "import csv\n",
        "import pandas as pd"
      ],
      "execution_count": null,
      "outputs": []
    },
    {
      "cell_type": "code",
      "metadata": {
        "id": "aC5uxf8J4csx",
        "colab_type": "code",
        "colab": {}
      },
      "source": [
        "!pip install googletrans"
      ],
      "execution_count": null,
      "outputs": []
    },
    {
      "cell_type": "code",
      "metadata": {
        "id": "Q-8vAmDL4cLv",
        "colab_type": "code",
        "colab": {}
      },
      "source": [
        "import googletrans\n",
        "from googletrans import Translator\n",
        "import requests \n",
        "import re\n",
        "from bs4 import BeautifulSoup"
      ],
      "execution_count": null,
      "outputs": []
    },
    {
      "cell_type": "code",
      "metadata": {
        "id": "oNxK4Qcj4OUw",
        "colab_type": "code",
        "colab": {}
      },
      "source": [
        "df = pd.read_csv('/content/drive/My Drive/Semester 7/IR/songs_corpus_with_english_1.csv')"
      ],
      "execution_count": null,
      "outputs": []
    },
    {
      "cell_type": "code",
      "metadata": {
        "id": "3fQ0CnAS4j1q",
        "colab_type": "code",
        "colab": {}
      },
      "source": [
        "translator = Translator()"
      ],
      "execution_count": null,
      "outputs": []
    },
    {
      "cell_type": "code",
      "metadata": {
        "id": "KU9UVmYh4mvF",
        "colab_type": "code",
        "colab": {}
      },
      "source": [
        "df_title = []\n",
        "for title in df['Title']:\n",
        "    df_title.append(title.replace(\"-\", \" \"))\n",
        "df['Title'] = df_title"
      ],
      "execution_count": null,
      "outputs": []
    },
    {
      "cell_type": "code",
      "metadata": {
        "id": "Tz5HyU1H4o2Q",
        "colab_type": "code",
        "colab": {
          "base_uri": "https://localhost:8080/",
          "height": 279
        },
        "outputId": "dd4ff7dd-7020-40f0-9669-8ad9a8aac2d8"
      },
      "source": [
        "df.head()"
      ],
      "execution_count": null,
      "outputs": [
        {
          "output_type": "execute_result",
          "data": {
            "text/html": [
              "<div>\n",
              "<style scoped>\n",
              "    .dataframe tbody tr th:only-of-type {\n",
              "        vertical-align: middle;\n",
              "    }\n",
              "\n",
              "    .dataframe tbody tr th {\n",
              "        vertical-align: top;\n",
              "    }\n",
              "\n",
              "    .dataframe thead th {\n",
              "        text-align: right;\n",
              "    }\n",
              "</style>\n",
              "<table border=\"1\" class=\"dataframe\">\n",
              "  <thead>\n",
              "    <tr style=\"text-align: right;\">\n",
              "      <th></th>\n",
              "      <th>Artist</th>\n",
              "      <th>Lyrics</th>\n",
              "      <th>Key</th>\n",
              "      <th>Genre</th>\n",
              "      <th>Music</th>\n",
              "      <th>Song</th>\n",
              "      <th>Title</th>\n",
              "      <th>Guitar</th>\n",
              "    </tr>\n",
              "  </thead>\n",
              "  <tbody>\n",
              "    <tr>\n",
              "      <th>0</th>\n",
              "      <td>Shreemathi Thilakarathna, Victor Rathnayaka</td>\n",
              "      <td>Premakeerthi De Alwis</td>\n",
              "      <td>F major | Beat</td>\n",
              "      <td>Duets, Golden Oldies</td>\n",
              "      <td>Victor Rathnayaka</td>\n",
              "      <td>ආදර ගඟුලෙහි ඉවුරෙ රැඳී සහන පවන් සැලූ මා ළඟ ඔබ ...</td>\n",
              "      <td>adara gangulehi</td>\n",
              "      <td>INTRO | F |Gm |C7 | F | |Bb | F |C7 | F | | F ...</td>\n",
              "    </tr>\n",
              "    <tr>\n",
              "      <th>1</th>\n",
              "      <td>Victor Rathnayaka</td>\n",
              "      <td>Premakeerthi De Alwis</td>\n",
              "      <td>C major | Beat</td>\n",
              "      <td>Classics, Inspirational</td>\n",
              "      <td>Victor Rathnayaka</td>\n",
              "      <td>ආදරයේ උල්පත වූ අම්මා මා ඔබගේ පුතු වූ…. ඔබ මතු ...</td>\n",
              "      <td>adaraye ulpatha wu</td>\n",
              "      <td>INTRO | C | F | C | G | | F | C | G | C | | C ...</td>\n",
              "    </tr>\n",
              "    <tr>\n",
              "      <th>2</th>\n",
              "      <td>Mervin Perera</td>\n",
              "      <td>Premakeerthi De Alwis</td>\n",
              "      <td>F major | Beat</td>\n",
              "      <td>Old Pops</td>\n",
              "      <td>Mervin Perera</td>\n",
              "      <td>අකුරු සතරකින් මනස පැටලිලා වැලි පිල්ලේ ලිය ලියා...</td>\n",
              "      <td>akuru satharakin</td>\n",
              "      <td>INTRO | F |Bb |F/Bb|F/C| | F | - |Dm | C | | C...</td>\n",
              "    </tr>\n",
              "    <tr>\n",
              "      <th>3</th>\n",
              "      <td>Victor Rathnayaka</td>\n",
              "      <td>Premakeerthi De Alwis</td>\n",
              "      <td>C major | Beat</td>\n",
              "      <td>Movie Songs</td>\n",
              "      <td>Victor Rathnayaka</td>\n",
              "      <td>අඳුර බිඳින්නට රැයක් දවාලු ලන්තෑරුම් නිවලා තිමි...</td>\n",
              "      <td>andura bidinnata</td>\n",
              "      <td>INTRO | C | - | C | G | | F | G |F/G| C | | C ...</td>\n",
              "    </tr>\n",
              "    <tr>\n",
              "      <th>4</th>\n",
              "      <td>Victor Rathnayaka</td>\n",
              "      <td>Premakeerthi De Alwis</td>\n",
              "      <td>D minor | Beat</td>\n",
              "      <td>Golden Oldies</td>\n",
              "      <td>Victor Rathnayaka</td>\n",
              "      <td>අපි හැඟුම් වලට ඉඩදී මොහොතක්‌ ඉඩ ලබාගනිමු තරමින...</td>\n",
              "      <td>api hangum walata</td>\n",
              "      <td>INTRO |Dm | - | - |Dm/A| |Dm | - | - |Dm | | +...</td>\n",
              "    </tr>\n",
              "  </tbody>\n",
              "</table>\n",
              "</div>"
            ],
            "text/plain": [
              "                                        Artist  ...                                             Guitar\n",
              "0  Shreemathi Thilakarathna, Victor Rathnayaka  ...  INTRO | F |Gm |C7 | F | |Bb | F |C7 | F | | F ...\n",
              "1                            Victor Rathnayaka  ...  INTRO | C | F | C | G | | F | C | G | C | | C ...\n",
              "2                                Mervin Perera  ...  INTRO | F |Bb |F/Bb|F/C| | F | - |Dm | C | | C...\n",
              "3                            Victor Rathnayaka  ...  INTRO | C | - | C | G | | F | G |F/G| C | | C ...\n",
              "4                            Victor Rathnayaka  ...  INTRO |Dm | - | - |Dm/A| |Dm | - | - |Dm | | +...\n",
              "\n",
              "[5 rows x 8 columns]"
            ]
          },
          "metadata": {
            "tags": []
          },
          "execution_count": 10
        }
      ]
    },
    {
      "cell_type": "code",
      "metadata": {
        "id": "Ci7BJKyC4xjK",
        "colab_type": "code",
        "colab": {}
      },
      "source": [
        "cols_to_trans = ['Artist','Lyrics', 'Genre', 'Music', 'Title']"
      ],
      "execution_count": null,
      "outputs": []
    },
    {
      "cell_type": "code",
      "metadata": {
        "id": "Jh6_cUon4sNW",
        "colab_type": "code",
        "colab": {}
      },
      "source": [
        "cols_to_trans = ['Artist','Lyrics', 'Genre', 'Music']\n",
        "for col in cols_to_trans:\n",
        "    temp = []\n",
        "    print(col)\n",
        "    for i in df[col]:\n",
        "        translated = translator.translate(i, dest='sinhala').text\n",
        "        while(1):\n",
        "            if(i == translated):\n",
        "                print(i, translated)\n",
        "                translated = translator.translate(i, dest='sinhala').text\n",
        "                print(\"translated again\")\n",
        "                print(i, translated)\n",
        "            else:\n",
        "                break\n",
        "        temp.append(translated)\n",
        "    df[col] = temp\n",
        "print(df.head())"
      ],
      "execution_count": null,
      "outputs": []
    },
    {
      "cell_type": "code",
      "metadata": {
        "id": "9rboquGBGZBt",
        "colab_type": "code",
        "colab": {}
      },
      "source": [
        "temp_title = []\n",
        "for title in df['Title']:\n",
        "    title_en = title.replace(\" \", \"-\")\n",
        "    URL_for_song = \"https://sinhalasongbook.com/\" + title_en\n",
        "    r_song = requests.get(URL_for_song) \n",
        "    soup_song = BeautifulSoup(r_song.content, 'lxml')\n",
        "    title_sin = soup_song.find('h1', class_ = \"entry-title\")\n",
        "\n",
        "    title_sin = str(title_sin.text).strip()\n",
        "    title_sin = (re.sub(' +', ' ', title_sin)).strip()\n",
        "\n",
        "    words = title_sin.split()\n",
        "\n",
        "    sin_title = \"\"\n",
        "    check = False\n",
        "\n",
        "    for i in words:\n",
        "        if(check):\n",
        "            sin_title += i + \" \"\n",
        "        if i == \"–\":\n",
        "            check = True\n",
        "    sin_title = sin_title.strip()\n",
        "    temp_title.append(sin_title)\n",
        "    print(sin_title)"
      ],
      "execution_count": null,
      "outputs": []
    },
    {
      "cell_type": "code",
      "metadata": {
        "id": "Dsf4ZMhOO-Br",
        "colab_type": "code",
        "colab": {}
      },
      "source": [
        "df['Title'] = temp_title"
      ],
      "execution_count": 26,
      "outputs": []
    },
    {
      "cell_type": "code",
      "metadata": {
        "id": "-0cSjYgVPE92",
        "colab_type": "code",
        "colab": {
          "base_uri": "https://localhost:8080/",
          "height": 279
        },
        "outputId": "1c23396b-3f26-4ebb-f72f-7354b04b4d5f"
      },
      "source": [
        "df.head()"
      ],
      "execution_count": 27,
      "outputs": [
        {
          "output_type": "execute_result",
          "data": {
            "text/html": [
              "<div>\n",
              "<style scoped>\n",
              "    .dataframe tbody tr th:only-of-type {\n",
              "        vertical-align: middle;\n",
              "    }\n",
              "\n",
              "    .dataframe tbody tr th {\n",
              "        vertical-align: top;\n",
              "    }\n",
              "\n",
              "    .dataframe thead th {\n",
              "        text-align: right;\n",
              "    }\n",
              "</style>\n",
              "<table border=\"1\" class=\"dataframe\">\n",
              "  <thead>\n",
              "    <tr style=\"text-align: right;\">\n",
              "      <th></th>\n",
              "      <th>Artist</th>\n",
              "      <th>Lyrics</th>\n",
              "      <th>Key</th>\n",
              "      <th>Genre</th>\n",
              "      <th>Music</th>\n",
              "      <th>Song</th>\n",
              "      <th>Title</th>\n",
              "      <th>Guitar</th>\n",
              "    </tr>\n",
              "  </thead>\n",
              "  <tbody>\n",
              "    <tr>\n",
              "      <th>0</th>\n",
              "      <td>ශ්‍රීමතී තිලකරත්න, වික්ටර් රත්නායක</td>\n",
              "      <td>ආදරණීය දිනය ඇල්විස්</td>\n",
              "      <td>F major | Beat</td>\n",
              "      <td>ඩුවට්ස්, ගෝල්ඩන් ඕල්ඩීස්</td>\n",
              "      <td>වික්ටර් රත්නායක</td>\n",
              "      <td>ආදර ගඟුලෙහි ඉවුරෙ රැඳී සහන පවන් සැලූ මා ළඟ ඔබ ...</td>\n",
              "      <td>ආදර ගඟුලෙහි</td>\n",
              "      <td>INTRO | F |Gm |C7 | F | |Bb | F |C7 | F | | F ...</td>\n",
              "    </tr>\n",
              "    <tr>\n",
              "      <th>1</th>\n",
              "      <td>වික්ටර් රත්නායක</td>\n",
              "      <td>ආදරණීය දිනය ඇල්විස්</td>\n",
              "      <td>C major | Beat</td>\n",
              "      <td>ක්ලැසික්, දේවානුභාවයෙන්</td>\n",
              "      <td>වික්ටර් රත්නායක</td>\n",
              "      <td>ආදරයේ උල්පත වූ අම්මා මා ඔබගේ පුතු වූ…. ඔබ මතු ...</td>\n",
              "      <td>ආදරයේ උල්පත වූ</td>\n",
              "      <td>INTRO | C | F | C | G | | F | C | G | C | | C ...</td>\n",
              "    </tr>\n",
              "    <tr>\n",
              "      <th>2</th>\n",
              "      <td>මර්වින් පෙරෙයිරා</td>\n",
              "      <td>ආදරණීය දිනය ඇල්විස්</td>\n",
              "      <td>F major | Beat</td>\n",
              "      <td>පැරණි පොප්ස්</td>\n",
              "      <td>මර්වින් පෙරෙයිරා</td>\n",
              "      <td>අකුරු සතරකින් මනස පැටලිලා වැලි පිල්ලේ ලිය ලියා...</td>\n",
              "      <td>අකුරු සතරකින්</td>\n",
              "      <td>INTRO | F |Bb |F/Bb|F/C| | F | - |Dm | C | | C...</td>\n",
              "    </tr>\n",
              "    <tr>\n",
              "      <th>3</th>\n",
              "      <td>වික්ටර් රත්නායක</td>\n",
              "      <td>ආදරණීය දිනය ඇල්විස්</td>\n",
              "      <td>C major | Beat</td>\n",
              "      <td>චිත්‍රපට ගීත</td>\n",
              "      <td>වික්ටර් රත්නායක</td>\n",
              "      <td>අඳුර බිඳින්නට රැයක් දවාලු ලන්තෑරුම් නිවලා තිමි...</td>\n",
              "      <td>අඳුර බිඳින්නට</td>\n",
              "      <td>INTRO | C | - | C | G | | F | G |F/G| C | | C ...</td>\n",
              "    </tr>\n",
              "    <tr>\n",
              "      <th>4</th>\n",
              "      <td>වික්ටර් රත්නායක</td>\n",
              "      <td>ආදරණීය දිනය ඇල්විස්</td>\n",
              "      <td>D minor | Beat</td>\n",
              "      <td>ගෝල්ඩන් ඕල්ඩීස්</td>\n",
              "      <td>වික්ටර් රත්නායක</td>\n",
              "      <td>අපි හැඟුම් වලට ඉඩදී මොහොතක්‌ ඉඩ ලබාගනිමු තරමින...</td>\n",
              "      <td>අපි හැඟුම් වලට</td>\n",
              "      <td>INTRO |Dm | - | - |Dm/A| |Dm | - | - |Dm | | +...</td>\n",
              "    </tr>\n",
              "  </tbody>\n",
              "</table>\n",
              "</div>"
            ],
            "text/plain": [
              "                               Artist  ...                                             Guitar\n",
              "0  ශ්‍රීමතී තිලකරත්න, වික්ටර් රත්නායක  ...  INTRO | F |Gm |C7 | F | |Bb | F |C7 | F | | F ...\n",
              "1                     වික්ටර් රත්නායක  ...  INTRO | C | F | C | G | | F | C | G | C | | C ...\n",
              "2                    මර්වින් පෙරෙයිරා  ...  INTRO | F |Bb |F/Bb|F/C| | F | - |Dm | C | | C...\n",
              "3                     වික්ටර් රත්නායක  ...  INTRO | C | - | C | G | | F | G |F/G| C | | C ...\n",
              "4                     වික්ටර් රත්නායක  ...  INTRO |Dm | - | - |Dm/A| |Dm | - | - |Dm | | +...\n",
              "\n",
              "[5 rows x 8 columns]"
            ]
          },
          "metadata": {
            "tags": []
          },
          "execution_count": 27
        }
      ]
    },
    {
      "cell_type": "code",
      "metadata": {
        "id": "SK3lpVIwPLYq",
        "colab_type": "code",
        "colab": {}
      },
      "source": [
        "df.to_csv('/content/drive/My Drive/Semester 7/IR/sinhala_songs_corpus.csv')"
      ],
      "execution_count": 28,
      "outputs": []
    }
  ]
}